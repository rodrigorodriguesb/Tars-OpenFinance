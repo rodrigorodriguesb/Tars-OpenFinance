{
 "cells": [
  {
   "cell_type": "code",
   "execution_count": null,
   "metadata": {},
   "outputs": [],
   "source": []
  }
 ],
 "metadata": {
  "kernelspec": {
   "display_name": "Python 3.10.5 64-bit",
   "language": "python",
   "name": "python3"
  },
  "language_info": {
   "name": "python",
   "version": "3.10.5"
  },
  "orig_nbformat": 4,
  "vscode": {
   "interpreter": {
    "hash": "d20eea879e1b182295353dc5723a05be1c74c3df62db354f8717a9835b268168"
   }
  }
 },
 "nbformat": 4,
 "nbformat_minor": 2
}
